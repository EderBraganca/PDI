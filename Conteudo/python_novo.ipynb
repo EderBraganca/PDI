{
 "cells": [
  {
   "cell_type": "code",
   "execution_count": 1,
   "metadata": {},
   "outputs": [
    {
     "name": "stdout",
     "output_type": "stream",
     "text": [
      "a = 5.0\n",
      "b = ola\n",
      "c = 11\n"
     ]
    }
   ],
   "source": [
    "a = 5.0\n",
    "b = 'ola'\n",
    "c = 5 + 6\n",
    "print(f'a = {a}')\n",
    "print(f'b = {b}')\n",
    "print(f'c = {c}')"
   ]
  },
  {
   "cell_type": "code",
   "execution_count": 3,
   "metadata": {},
   "outputs": [
    {
     "name": "stdout",
     "output_type": "stream",
     "text": [
      "['Craig', 'John', 'Chris']\n",
      "['Craig', 5.0, True, 67]\n"
     ]
    }
   ],
   "source": [
    "minha_lista = ['Craig', 'John', 'Chris']\n",
    "print(minha_lista)\n",
    "minha_lista = ['Craig', 5.0, True, 67]\n",
    "print(minha_lista)"
   ]
  },
  {
   "cell_type": "code",
   "execution_count": 4,
   "metadata": {},
   "outputs": [
    {
     "name": "stdout",
     "output_type": "stream",
     "text": [
      "[1, 2, 3, 1, 2, 3, 1, 2, 3]\n"
     ]
    }
   ],
   "source": [
    "minha_lista = [1,2,3]*3\n",
    "print(minha_lista)"
   ]
  },
  {
   "cell_type": "code",
   "execution_count": 5,
   "metadata": {},
   "outputs": [
    {
     "name": "stdout",
     "output_type": "stream",
     "text": [
      "[1, 2, 3, 99, 100, 101]\n"
     ]
    }
   ],
   "source": [
    "minha_lista = [1,2,3] + [99,100,101]\n",
    "print(minha_lista)"
   ]
  },
  {
   "cell_type": "code",
   "execution_count": 6,
   "metadata": {},
   "outputs": [
    {
     "name": "stdout",
     "output_type": "stream",
     "text": [
      "Craig\n"
     ]
    }
   ],
   "source": [
    "minha_lista = ['Craig', 'John', 'Chris']\n",
    "print(minha_lista[0])"
   ]
  },
  {
   "cell_type": "code",
   "execution_count": 2,
   "metadata": {},
   "outputs": [],
   "source": [
    "#print(minha_lista[4])"
   ]
  },
  {
   "cell_type": "code",
   "execution_count": 9,
   "metadata": {},
   "outputs": [
    {
     "name": "stdout",
     "output_type": "stream",
     "text": [
      "Lista1 = ['Craig', 'John', 'Chris']\n",
      "Lista2 = ['Craig', 'John', 'Chris']\n",
      "Lista1 = ['Craig', 60, 'Chris']\n",
      "Lista2 = ['Craig', 60, 'Chris']\n"
     ]
    }
   ],
   "source": [
    "lista1 = ['Craig', 'John', 'Chris']\n",
    "lista2 = lista1\n",
    "print(f'Lista1 = {lista1}')\n",
    "print(f'Lista2 = {lista1}')\n",
    "lista2[1] = 60\n",
    "print(f'Lista1 = {lista1}')\n",
    "print(f'Lista2 = {lista1}')"
   ]
  },
  {
   "cell_type": "code",
   "execution_count": 10,
   "metadata": {},
   "outputs": [
    {
     "name": "stdout",
     "output_type": "stream",
     "text": [
      "[1, 2, 3]\n",
      "[60, 2, 3]\n"
     ]
    }
   ],
   "source": [
    "lista1 = [1,2,3]\n",
    "lista2 = lista1[:]\n",
    "lista2[0] = 60\n",
    "print(lista1) # 1 2 3\n",
    "print(lista2)"
   ]
  },
  {
   "cell_type": "markdown",
   "metadata": {},
   "source": [
    "## Copia rasa"
   ]
  },
  {
   "cell_type": "code",
   "execution_count": 12,
   "metadata": {},
   "outputs": [
    {
     "name": "stdout",
     "output_type": "stream",
     "text": [
      "List1: [[10, 20], 40, ['segunda', 'terca', 'quarta']]\n",
      "List2: [[10, 20], 40, ['segunda', 'terca', 'quarta']]\n"
     ]
    }
   ],
   "source": [
    "list1 = [[10,20], 40, ['segunda', 'terca']]\n",
    "list2 = list1.copy()\n",
    "list1[2].append('quarta')\n",
    "print(f'List1: {list1}')\n",
    "print(f'List2: {list2}')"
   ]
  },
  {
   "cell_type": "code",
   "execution_count": 13,
   "metadata": {},
   "outputs": [
    {
     "name": "stdout",
     "output_type": "stream",
     "text": [
      "List1: [[10, 20], 1000, ['segunda', 'terca', 'quarta']]\n",
      "List2: [[10, 20], 40, ['segunda', 'terca', 'quarta']]\n"
     ]
    }
   ],
   "source": [
    "list1[1] = 1000\n",
    "print(f'List1: {list1}')\n",
    "print(f'List2: {list2}')"
   ]
  },
  {
   "cell_type": "markdown",
   "metadata": {},
   "source": [
    "## Copia profunda"
   ]
  },
  {
   "cell_type": "code",
   "execution_count": 14,
   "metadata": {},
   "outputs": [
    {
     "name": "stdout",
     "output_type": "stream",
     "text": [
      "List1: [[10, 20], 40, ['segunda', 'terca', 'quinta']]\n",
      "List3: [[10, 20], 40, ['segunda', 'terca']]\n"
     ]
    }
   ],
   "source": [
    "from copy import deepcopy\n",
    "list1 = [[10,20], 40, ['segunda', 'terca']]\n",
    "list3 = deepcopy(list1)\n",
    "list1[2].append('quinta')\n",
    "print(f'List1: {list1}')\n",
    "print(f'List3: {list3}')"
   ]
  },
  {
   "cell_type": "markdown",
   "metadata": {},
   "source": [
    "## Switch"
   ]
  },
  {
   "cell_type": "code",
   "execution_count": 22,
   "metadata": {},
   "outputs": [],
   "source": [
    "def numero_to_cadeia(dia):\n",
    "    match dia:\n",
    "        case 0:\n",
    "            return \"zero\"\n",
    "        case 1:\n",
    "            return \"one\"\n",
    "        case 2:\n",
    "            return \"two\"\n"
   ]
  },
  {
   "cell_type": "code",
   "execution_count": 23,
   "metadata": {},
   "outputs": [
    {
     "data": {
      "text/plain": [
       "'one'"
      ]
     },
     "execution_count": 23,
     "metadata": {},
     "output_type": "execute_result"
    }
   ],
   "source": [
    "numero_to_cadeia(1)"
   ]
  },
  {
   "cell_type": "code",
   "execution_count": 24,
   "metadata": {},
   "outputs": [],
   "source": [
    "def numbers_to_strings(argument):\n",
    "    switcher = {\n",
    "    0: \"zero\",\n",
    "    1: \"one\",\n",
    "    2: \"two\",\n",
    "    }\n",
    "\n",
    "    return switcher.get(argument, \"nothing\")"
   ]
  },
  {
   "cell_type": "code",
   "execution_count": 25,
   "metadata": {},
   "outputs": [
    {
     "data": {
      "text/plain": [
       "'one'"
      ]
     },
     "execution_count": 25,
     "metadata": {},
     "output_type": "execute_result"
    }
   ],
   "source": [
    "numbers_to_strings(1)"
   ]
  },
  {
   "cell_type": "markdown",
   "metadata": {},
   "source": [
    "## For"
   ]
  },
  {
   "cell_type": "code",
   "execution_count": 28,
   "metadata": {},
   "outputs": [
    {
     "name": "stdout",
     "output_type": "stream",
     "text": [
      "0\n",
      "a\n",
      "2\n",
      "5\n",
      "1\n"
     ]
    }
   ],
   "source": [
    "for i in [0, 'a', 2, 5, 1]:\n",
    "    print(i)\n",
    "    #print(i, end=' ')"
   ]
  },
  {
   "cell_type": "code",
   "execution_count": 32,
   "metadata": {},
   "outputs": [
    {
     "name": "stdout",
     "output_type": "stream",
     "text": [
      "10 20 30 40 50 \n",
      "10 20 30 40 50 \n",
      "10 20 30 40 50 "
     ]
    }
   ],
   "source": [
    "lista = [10,20,30,40,50]\n",
    "for elem in lista:\n",
    "    print(elem, end=' ')\n",
    "print()\n",
    "\n",
    "for pos, elem in enumerate(lista):\n",
    "    print(lista[pos], end = \" \")\n",
    "\n",
    "print()\n",
    "n = len(lista)\n",
    "for i in range(n):\n",
    "    print(lista[i], end = \" \")"
   ]
  },
  {
   "cell_type": "markdown",
   "metadata": {},
   "source": [
    "## List comprenhension"
   ]
  },
  {
   "cell_type": "code",
   "execution_count": 34,
   "metadata": {},
   "outputs": [
    {
     "name": "stdout",
     "output_type": "stream",
     "text": [
      "[0.5, 1.0, 1.5, 2.0, 2.5, 3.0]\n",
      "[1.0, 2.0, 3.0]\n",
      "[1, 1.0, 3, 2.0, 5, 3.0]\n"
     ]
    }
   ],
   "source": [
    "lista = [1,2,3,4,5,6]\n",
    "lista2 = [elem/2 for elem in lista]\n",
    "print(lista2) # [0.5, 1.0, 1.5, 2.0, 2.5, 3.0]\n",
    "lista3 = [elem/2 for elem in lista if elem%2 ==0]\n",
    "print(lista3) # [1.0, 2.0, 3.0]\n",
    "lista4 = [elem/2 if elem % 2 == 0 else elem for elem in lista]\n",
    "print(lista4) # [1, 1.0, 3, 2.0, 5, 3.0]\n"
   ]
  },
  {
   "cell_type": "markdown",
   "metadata": {},
   "source": [
    "## Dicionários"
   ]
  },
  {
   "cell_type": "code",
   "execution_count": 38,
   "metadata": {},
   "outputs": [
    {
     "name": "stdout",
     "output_type": "stream",
     "text": [
      "{'Maths': 45, 'Science': 23, 'Social': 38}\n",
      "23\n",
      "{'Maths': 45, 'Science': 23, 'Social': 38, 'Chemistry': 50}\n"
     ]
    }
   ],
   "source": [
    "marks = {'Maths':45, 'Science':23, 'Social':38}\n",
    "print(marks)\n",
    "print(marks['Science'])\n",
    "marks['Chemistry'] = 50\n",
    "print(marks)\n"
   ]
  },
  {
   "cell_type": "code",
   "execution_count": 39,
   "metadata": {},
   "outputs": [
    {
     "name": "stdout",
     "output_type": "stream",
     "text": [
      "Maths\n",
      "Science\n",
      "Social\n",
      "Chemistry\n"
     ]
    }
   ],
   "source": [
    "for subject in marks:\n",
    "    print(subject)\n"
   ]
  },
  {
   "cell_type": "code",
   "execution_count": 40,
   "metadata": {},
   "outputs": [
    {
     "name": "stdout",
     "output_type": "stream",
     "text": [
      "Maths : 45\n",
      "Science : 23\n",
      "Social : 38\n",
      "Chemistry : 50\n"
     ]
    }
   ],
   "source": [
    "for key, value in marks.items():\n",
    "    print(key, \":\", value)\n"
   ]
  }
 ],
 "metadata": {
  "kernelspec": {
   "display_name": "base",
   "language": "python",
   "name": "python3"
  },
  "language_info": {
   "codemirror_mode": {
    "name": "ipython",
    "version": 3
   },
   "file_extension": ".py",
   "mimetype": "text/x-python",
   "name": "python",
   "nbconvert_exporter": "python",
   "pygments_lexer": "ipython3",
   "version": "3.12.2"
  }
 },
 "nbformat": 4,
 "nbformat_minor": 2
}
